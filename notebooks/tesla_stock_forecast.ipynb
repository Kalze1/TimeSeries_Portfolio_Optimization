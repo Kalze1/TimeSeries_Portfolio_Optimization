{
 "cells": [
  {
   "cell_type": "code",
   "execution_count": null,
   "metadata": {},
   "outputs": [],
   "source": [
    "import numpy as np\n",
    "import pandas as pd\n",
    "from tensorflow.keras.models import load_model\n",
    "from tensorflow.keras.losses import MeanSquaredError\n",
    "from tensorflow.keras.models import load_model\n",
    "import matplotlib.pyplot as plt\n",
    "from sklearn.preprocessing import MinMaxScaler\n",
    "from tensorflow.keras.preprocessing.sequence import TimeseriesGenerator"
   ]
  },
  {
   "cell_type": "code",
   "execution_count": null,
   "metadata": {},
   "outputs": [],
   "source": [
    "# Load the dataset\n",
    "data = pd.read_csv(\"../data/tesla_data.csv\", index_col='Date', parse_dates=True)\n",
    "data = data[['Close']]  # Using only the 'Close' price for forecasting\n",
    "data = data.resample('D').ffill()  # Resampling to fill any missing dates"
   ]
  },
  {
   "cell_type": "code",
   "execution_count": null,
   "metadata": {},
   "outputs": [],
   "source": [
    "# Split data into train and test sets\n",
    "train_size = int(len(data) * 0.8)\n",
    "train, test = data[:train_size], data[train_size:]\n",
    "\n",
    "# Scale the data\n",
    "scaler = MinMaxScaler()\n",
    "train_scaled = scaler.fit_transform(train)\n",
    "test_scaled = scaler.transform(test)"
   ]
  },
  {
   "cell_type": "code",
   "execution_count": null,
   "metadata": {},
   "outputs": [],
   "source": [
    "# Load the saved model\n",
    "model_path = '../models/lstm_model.h5'\n",
    "lstm_model = load_model(model_path, custom_objects={'mse': MeanSquaredError()})"
   ]
  },
  {
   "cell_type": "code",
   "execution_count": null,
   "metadata": {},
   "outputs": [],
   "source": [
    "# Set forecasting parameters\n",
    "n_input = 30\n",
    "n_features = 1\n",
    "future_periods = 180  # Predicting for 6 months (approx. 180 trading days)\n",
    "\n",
    "# Prepare the first input batch for forecasting\n",
    "forecast = []\n",
    "first_eval_batch = train_scaled[-n_input:]\n",
    "current_batch = first_eval_batch.reshape((1, n_input, n_features))\n",
    "\n",
    "# Forecast future prices\n",
    "for _ in range(future_periods):\n",
    "    lstm_pred = lstm_model.predict(current_batch)[0]\n",
    "    forecast.append(lstm_pred)\n",
    "    current_batch = np.append(current_batch[:, 1:, :], [[lstm_pred]], axis=1)\n",
    "\n",
    "# Inverse transform to obtain actual prices\n",
    "forecast = scaler.inverse_transform(forecast)\n",
    "\n",
    "# Prepare date range for the forecasted values\n",
    "forecast_index = pd.date_range(start=test.index[-1] + pd.Timedelta(days=1), periods=future_periods, freq='D')\n",
    "\n",
    "# Convert forecast to DataFrame for visualization\n",
    "forecast_df = pd.DataFrame(data=forecast, index=forecast_index, columns=['Forecast'])"
   ]
  },
  {
   "cell_type": "code",
   "execution_count": null,
   "metadata": {},
   "outputs": [],
   "source": [
    "# Plot the results\n",
    "plt.figure(figsize=(12, 6))\n",
    "plt.plot(train.index, train['Close'], label='Training Data')\n",
    "plt.plot(test.index, test['Close'], label='Testing Data')\n",
    "plt.plot(forecast_df.index, forecast_df['Forecast'], label='Forecast')\n",
    "plt.title('LSTM Model - Tesla Stock Price Forecast for 6 Months')\n",
    "plt.xlabel('Date')\n",
    "plt.ylabel('Stock Price')\n",
    "plt.legend()\n",
    "plt.show()\n"
   ]
  },
  {
   "cell_type": "code",
   "execution_count": null,
   "metadata": {},
   "outputs": [],
   "source": [
    "\n",
    "#Forecast Analysis\n",
    "\n",
    "# Trend Analysis\n",
    "long_term_trend = forecast_df.rolling(window=30).mean()  # 30-day moving average as a proxy for trend\n",
    "plt.figure(figsize=(12, 6))\n",
    "plt.plot(forecast_df.index, forecast_df['Forecast'], label='Forecast')\n",
    "plt.plot(long_term_trend, label='Long-term Trend', linestyle='--', color='orange')\n",
    "plt.title('Trend Analysis for Tesla Stock Price Forecast')\n",
    "plt.xlabel('Date')\n",
    "plt.ylabel('Stock Price')\n",
    "plt.legend()\n",
    "plt.show()\n",
    "\n",
    "# Volatility and Confidence Intervals\n",
    "# Calculate the standard deviation of forecasted values for confidence intervals\n",
    "forecast_std = np.std(forecast_df['Forecast'])\n",
    "upper_bound = forecast_df['Forecast'] + forecast_std\n",
    "lower_bound = forecast_df['Forecast'] - forecast_std\n",
    "\n",
    "plt.figure(figsize=(12, 6))\n",
    "plt.plot(forecast_df.index, forecast_df['Forecast'], label='Forecast')\n",
    "plt.fill_between(forecast_df.index, lower_bound, upper_bound, color='b', alpha=0.2, label='Confidence Interval')\n",
    "plt.title('Tesla Stock Price Forecast with Confidence Interval')\n",
    "plt.xlabel('Date')\n",
    "plt.ylabel('Stock Price')\n",
    "plt.legend()\n",
    "plt.show()\n",
    "\n",
    "# Interpret Results\n",
    "print(\"Trend Analysis:\")\n",
    "print(\"The forecasted trend suggests a potential long-term pattern where stock prices may be moving upward/downward.\")\n",
    "print(\"\\nVolatility and Risk:\")\n",
    "print(\"The width of the confidence intervals indicates expected volatility in the forecasted period. Larger intervals suggest higher risk.\")\n",
    "\n",
    "# Market Opportunities and Risks\n",
    "# Based on the forecast, summarize expected market opportunities or risks:\n",
    "# Define a threshold for volatility (you can adjust this value based on your data and analysis)\n",
    "volatility_threshold = 0.05  # or any other value that fits your risk assessment\n",
    "\n",
    "# Check for market opportunity and risk\n",
    "if upper_bound[-1] > forecast_df['Forecast'].iloc[-1]:\n",
    "    print(\"Market Opportunity: There is potential for price increases, which may present buying opportunities.\")\n",
    "if forecast_std > volatility_threshold:  \n",
    "    print(\"Market Risk: High volatility could mean increased investment risk, especially if unexpected events impact prices.\")\n"
   ]
  },
  {
   "cell_type": "code",
   "execution_count": null,
   "metadata": {},
   "outputs": [],
   "source": []
  }
 ],
 "metadata": {
  "language_info": {
   "name": "python"
  }
 },
 "nbformat": 4,
 "nbformat_minor": 2
}
